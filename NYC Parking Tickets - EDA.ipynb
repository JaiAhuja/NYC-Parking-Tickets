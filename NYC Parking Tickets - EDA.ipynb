{
 "cells": [
  {
   "cell_type": "code",
   "execution_count": 1,
   "id": "27172981",
   "metadata": {},
   "outputs": [],
   "source": [
    "# Setting up PySpark\n",
    "import findspark\n",
    "findspark.init()\n",
    "findspark.find()\n",
    "import pyspark\n",
    "\n",
    "import os\n",
    "import functools as reduce\n",
    "from pyspark.context import SparkContext\n",
    "from pyspark.sql import DataFrame, SQLContext, SparkSession, Window\n",
    "import pyspark.sql.functions as F\n",
    "from pyspark.sql.types import *\n",
    "\n",
    "conf = pyspark.SparkConf().setAppName('NYC-Parking-Tickects-EDA').setMaster('local')\n",
    "sc = pyspark.SparkContext(conf = conf)\n",
    "spark = SparkSession(sc)\n",
    "sqlContext = SQLContext(sc)"
   ]
  },
  {
   "cell_type": "code",
   "execution_count": 2,
   "id": "2e2649b7",
   "metadata": {},
   "outputs": [],
   "source": [
    "# Reading the data into DataFrame\n",
    "df = spark.read.csv(\"Parking_Violations_Issued_-_Fiscal_Year_2017.csv\", inferSchema=True, header=True)"
   ]
  },
  {
   "cell_type": "markdown",
   "id": "ba71f966",
   "metadata": {},
   "source": [
    "# 1. Examining the dataset"
   ]
  },
  {
   "cell_type": "code",
   "execution_count": 3,
   "id": "f300c128",
   "metadata": {},
   "outputs": [
    {
     "name": "stdout",
     "output_type": "stream",
     "text": [
      "root\n",
      " |-- Summons Number: long (nullable = true)\n",
      " |-- Plate ID: string (nullable = true)\n",
      " |-- Registration State: string (nullable = true)\n",
      " |-- Plate Type: string (nullable = true)\n",
      " |-- Issue Date: string (nullable = true)\n",
      " |-- Violation Code: integer (nullable = true)\n",
      " |-- Vehicle Body Type: string (nullable = true)\n",
      " |-- Vehicle Make: string (nullable = true)\n",
      " |-- Issuing Agency: string (nullable = true)\n",
      " |-- Street Code1: integer (nullable = true)\n",
      " |-- Street Code2: integer (nullable = true)\n",
      " |-- Street Code3: integer (nullable = true)\n",
      " |-- Vehicle Expiration Date: integer (nullable = true)\n",
      " |-- Violation Location: integer (nullable = true)\n",
      " |-- Violation Precinct: integer (nullable = true)\n",
      " |-- Issuer Precinct: integer (nullable = true)\n",
      " |-- Issuer Code: integer (nullable = true)\n",
      " |-- Issuer Command: string (nullable = true)\n",
      " |-- Issuer Squad: string (nullable = true)\n",
      " |-- Violation Time: string (nullable = true)\n",
      " |-- Time First Observed: string (nullable = true)\n",
      " |-- Violation County: string (nullable = true)\n",
      " |-- Violation In Front Of Or Opposite: string (nullable = true)\n",
      " |-- House Number: string (nullable = true)\n",
      " |-- Street Name: string (nullable = true)\n",
      " |-- Intersecting Street: string (nullable = true)\n",
      " |-- Date First Observed: integer (nullable = true)\n",
      " |-- Law Section: integer (nullable = true)\n",
      " |-- Sub Division: string (nullable = true)\n",
      " |-- Violation Legal Code: string (nullable = true)\n",
      " |-- Days Parking In Effect    : string (nullable = true)\n",
      " |-- From Hours In Effect: string (nullable = true)\n",
      " |-- To Hours In Effect: string (nullable = true)\n",
      " |-- Vehicle Color: string (nullable = true)\n",
      " |-- Unregistered Vehicle?: integer (nullable = true)\n",
      " |-- Vehicle Year: integer (nullable = true)\n",
      " |-- Meter Number: string (nullable = true)\n",
      " |-- Feet From Curb: integer (nullable = true)\n",
      " |-- Violation Post Code: string (nullable = true)\n",
      " |-- Violation Description: string (nullable = true)\n",
      " |-- No Standing or Stopping Violation: string (nullable = true)\n",
      " |-- Hydrant Violation: string (nullable = true)\n",
      " |-- Double Parking Violation: string (nullable = true)\n",
      "\n"
     ]
    }
   ],
   "source": [
    "# Checking the schema of the dataframe\n",
    "df.printSchema()"
   ]
  },
  {
   "cell_type": "code",
   "execution_count": 4,
   "id": "144cb23b",
   "metadata": {},
   "outputs": [
    {
     "data": {
      "text/plain": [
       "['Summons Number',\n",
       " 'Plate ID',\n",
       " 'Registration State',\n",
       " 'Plate Type',\n",
       " 'Issue Date',\n",
       " 'Violation Code',\n",
       " 'Vehicle Body Type',\n",
       " 'Vehicle Make',\n",
       " 'Issuing Agency',\n",
       " 'Street Code1',\n",
       " 'Street Code2',\n",
       " 'Street Code3',\n",
       " 'Vehicle Expiration Date',\n",
       " 'Violation Location',\n",
       " 'Violation Precinct',\n",
       " 'Issuer Precinct',\n",
       " 'Issuer Code',\n",
       " 'Issuer Command',\n",
       " 'Issuer Squad',\n",
       " 'Violation Time',\n",
       " 'Time First Observed',\n",
       " 'Violation County',\n",
       " 'Violation In Front Of Or Opposite',\n",
       " 'House Number',\n",
       " 'Street Name',\n",
       " 'Intersecting Street',\n",
       " 'Date First Observed',\n",
       " 'Law Section',\n",
       " 'Sub Division',\n",
       " 'Violation Legal Code',\n",
       " 'Days Parking In Effect    ',\n",
       " 'From Hours In Effect',\n",
       " 'To Hours In Effect',\n",
       " 'Vehicle Color',\n",
       " 'Unregistered Vehicle?',\n",
       " 'Vehicle Year',\n",
       " 'Meter Number',\n",
       " 'Feet From Curb',\n",
       " 'Violation Post Code',\n",
       " 'Violation Description',\n",
       " 'No Standing or Stopping Violation',\n",
       " 'Hydrant Violation',\n",
       " 'Double Parking Violation']"
      ]
     },
     "execution_count": 4,
     "metadata": {},
     "output_type": "execute_result"
    }
   ],
   "source": [
    "# Checking the Columns\n",
    "df.columns"
   ]
  },
  {
   "cell_type": "code",
   "execution_count": 5,
   "id": "f9fb08a0",
   "metadata": {},
   "outputs": [
    {
     "name": "stdout",
     "output_type": "stream",
     "text": [
      "+--------------+--------+------------------+----------+----------+--------------+-----------------+------------+--------------+------------+------------+------------+-----------------------+------------------+------------------+---------------+-----------+--------------+------------+--------------+-------------------+----------------+---------------------------------+------------+--------------------+-------------------+-------------------+-----------+------------+--------------------+--------------------------+--------------------+------------------+-------------+---------------------+------------+------------+--------------+-------------------+---------------------+---------------------------------+-----------------+------------------------+\n",
      "|Summons Number|Plate ID|Registration State|Plate Type|Issue Date|Violation Code|Vehicle Body Type|Vehicle Make|Issuing Agency|Street Code1|Street Code2|Street Code3|Vehicle Expiration Date|Violation Location|Violation Precinct|Issuer Precinct|Issuer Code|Issuer Command|Issuer Squad|Violation Time|Time First Observed|Violation County|Violation In Front Of Or Opposite|House Number|         Street Name|Intersecting Street|Date First Observed|Law Section|Sub Division|Violation Legal Code|Days Parking In Effect    |From Hours In Effect|To Hours In Effect|Vehicle Color|Unregistered Vehicle?|Vehicle Year|Meter Number|Feet From Curb|Violation Post Code|Violation Description|No Standing or Stopping Violation|Hydrant Violation|Double Parking Violation|\n",
      "+--------------+--------+------------------+----------+----------+--------------+-----------------+------------+--------------+------------+------------+------------+-----------------------+------------------+------------------+---------------+-----------+--------------+------------+--------------+-------------------+----------------+---------------------------------+------------+--------------------+-------------------+-------------------+-----------+------------+--------------------+--------------------------+--------------------+------------------+-------------+---------------------+------------+------------+--------------+-------------------+---------------------+---------------------------------+-----------------+------------------------+\n",
      "|    5092469481| GZH7067|                NY|       PAS|07/10/2016|             7|             SUBN|       TOYOT|             V|           0|           0|           0|                      0|              null|                 0|              0|          0|          null|        null|         0143A|               null|              BX|                             null|        null|ALLERTON AVE (W/B) @|         BARNES AVE|                  0|       1111|           D|                   T|                      null|                null|              null|           GY|                 null|        2001|        null|             0|               null| FAILURE TO STOP A...|                             null|             null|                    null|\n",
      "|    5092451658| GZH7067|                NY|       PAS|07/08/2016|             7|             SUBN|       TOYOT|             V|           0|           0|           0|                      0|              null|                 0|              0|          0|          null|        null|         0400P|               null|              BX|                             null|        null|ALLERTON AVE (W/B) @|         BARNES AVE|                  0|       1111|           D|                   T|                      null|                null|              null|           GY|                 null|        2001|        null|             0|               null| FAILURE TO STOP A...|                             null|             null|                    null|\n",
      "|    4006265037| FZX9232|                NY|       PAS|08/23/2016|             5|             SUBN|        FORD|             V|           0|           0|           0|                      0|              null|                 0|              0|          0|          null|        null|         0233P|               null|              BX|                             null|        null|SB WEBSTER AVE @ E 1|            94TH ST|                  0|       1111|           C|                   T|                      null|                null|              null|           BK|                 null|        2004|        null|             0|               null|   BUS LANE VIOLATION|                             null|             null|                    null|\n",
      "|    8478629828| 66623ME|                NY|       COM|06/14/2017|            47|             REFG|       MITSU|             T|       10610|       34330|       34350|               20180630|                14|                14|             14|     359594|          T102|           J|         1120A|               null|              NY|                                O|         330|             7th Ave|               null|                  0|        408|          l2|                null|                         Y|               0700A|             0700P|           WH|                 null|        2007|        null|             0|                 04| 47-Double PKG-Mid...|                             null|             null|                    null|\n",
      "|    7868300310| 37033JV|                NY|       COM|11/21/2016|            69|             DELV|       INTER|             T|       10510|       34310|       34330|               20170228|                13|                13|             13|     364832|          T102|           M|         0555P|               null|              NY|                                F|         799|             6th Ave|               null|                  0|        408|          h1|                null|                         Y|               0700A|             0700P|        WHITE|                 null|        2007|        null|             0|               31 6| 69-Failure to Dis...|                             null|             null|                    null|\n",
      "+--------------+--------+------------------+----------+----------+--------------+-----------------+------------+--------------+------------+------------+------------+-----------------------+------------------+------------------+---------------+-----------+--------------+------------+--------------+-------------------+----------------+---------------------------------+------------+--------------------+-------------------+-------------------+-----------+------------+--------------------+--------------------------+--------------------+------------------+-------------+---------------------+------------+------------+--------------+-------------------+---------------------+---------------------------------+-----------------+------------------------+\n",
      "only showing top 5 rows\n",
      "\n"
     ]
    }
   ],
   "source": [
    "# Printing the top 5 rows\n",
    "df.show(5)"
   ]
  },
  {
   "cell_type": "code",
   "execution_count": 6,
   "id": "c952c627",
   "metadata": {},
   "outputs": [
    {
     "data": {
      "text/plain": [
       "10803028"
      ]
     },
     "execution_count": 6,
     "metadata": {},
     "output_type": "execute_result"
    }
   ],
   "source": [
    "# Counting the records in the dataframe\n",
    "df.count()"
   ]
  },
  {
   "cell_type": "markdown",
   "id": "6c092ecd",
   "metadata": {},
   "source": [
    "`Inference:` Total number of Tickets for 2017 are 10803028"
   ]
  },
  {
   "cell_type": "code",
   "execution_count": 7,
   "id": "cafa8be5",
   "metadata": {},
   "outputs": [
    {
     "name": "stdout",
     "output_type": "stream",
     "text": [
      "+-------------------------+\n",
      "|count(Registration State)|\n",
      "+-------------------------+\n",
      "|                       67|\n",
      "+-------------------------+\n",
      "\n"
     ]
    }
   ],
   "source": [
    "# Counting the number of distinct Registratuiin States\n",
    "df.select(\"Registration State\").agg(F.countDistinct(\"Registration State\")).show()"
   ]
  },
  {
   "cell_type": "code",
   "execution_count": 8,
   "id": "a9e0962d",
   "metadata": {
    "scrolled": true
   },
   "outputs": [
    {
     "name": "stdout",
     "output_type": "stream",
     "text": [
      "+------------------+\n",
      "|Registration State|\n",
      "+------------------+\n",
      "|                AZ|\n",
      "|                SC|\n",
      "|                NS|\n",
      "|                LA|\n",
      "|                MN|\n",
      "|                NJ|\n",
      "|                MX|\n",
      "|                DC|\n",
      "|                OR|\n",
      "|                99|\n",
      "|                NT|\n",
      "|                VA|\n",
      "|                RI|\n",
      "|                WY|\n",
      "|                KY|\n",
      "|                BC|\n",
      "|                NH|\n",
      "|                MI|\n",
      "|                GV|\n",
      "|                NV|\n",
      "|                QB|\n",
      "|                WI|\n",
      "|                ID|\n",
      "|                CA|\n",
      "|                CT|\n",
      "|                NE|\n",
      "|                MT|\n",
      "|                NC|\n",
      "|                VT|\n",
      "|                MD|\n",
      "|                DE|\n",
      "|                MO|\n",
      "|                IL|\n",
      "|                ME|\n",
      "|                MB|\n",
      "|                WA|\n",
      "|                ND|\n",
      "|                MS|\n",
      "|                AL|\n",
      "|                IN|\n",
      "|                OH|\n",
      "|                TN|\n",
      "|                IA|\n",
      "|                NM|\n",
      "|                PA|\n",
      "|                SD|\n",
      "|                FO|\n",
      "|                NY|\n",
      "|                ON|\n",
      "|                SK|\n",
      "|                AB|\n",
      "|                PE|\n",
      "|                TX|\n",
      "|                WV|\n",
      "|                GA|\n",
      "|                MA|\n",
      "|                KS|\n",
      "|                FL|\n",
      "|                CO|\n",
      "|                AK|\n",
      "|                AR|\n",
      "|                NB|\n",
      "|                OK|\n",
      "|                PR|\n",
      "|                UT|\n",
      "|                HI|\n",
      "|                DP|\n",
      "+------------------+\n",
      "\n"
     ]
    }
   ],
   "source": [
    "# Seeing the names of distinct States in the dataframe\n",
    "df.select(\"Registration State\").distinct().show(100)"
   ]
  },
  {
   "cell_type": "code",
   "execution_count": 9,
   "id": "7db53d40",
   "metadata": {},
   "outputs": [
    {
     "name": "stdout",
     "output_type": "stream",
     "text": [
      "+------------------+---------+\n",
      "|Registration State|Frequency|\n",
      "+------------------+---------+\n",
      "|                NY|  8481061|\n",
      "|                NJ|   925965|\n",
      "|                PA|   285419|\n",
      "|                FL|   144556|\n",
      "|                CT|   141088|\n",
      "|                MA|    85547|\n",
      "|                IN|    80749|\n",
      "|                VA|    72626|\n",
      "|                MD|    61800|\n",
      "|                NC|    55806|\n",
      "|                IL|    37329|\n",
      "|                GA|    36852|\n",
      "|                99|    36625|\n",
      "|                TX|    36516|\n",
      "|                AZ|    26426|\n",
      "|                OH|    25302|\n",
      "|                CA|    24260|\n",
      "|                SC|    21836|\n",
      "|                ME|    21574|\n",
      "|                MN|    18227|\n",
      "+------------------+---------+\n",
      "only showing top 20 rows\n",
      "\n"
     ]
    }
   ],
   "source": [
    "# Checking the frequency of Tickets from each State\n",
    "df.groupBy(\"Registration State\").agg(F.count(\"Summons Number\").alias(\"Frequency\")).sort(F.col(\"Frequency\").desc()).show()"
   ]
  },
  {
   "cell_type": "code",
   "execution_count": 10,
   "id": "7b11481e",
   "metadata": {},
   "outputs": [],
   "source": [
    "# Replacing 99 in Registration State Column with NY since, it is the mode in the column\n",
    "df = df.withColumn(\"Registration State\", F.regexp_replace(\"Registration State\", \"99\", \"NY\"))"
   ]
  },
  {
   "cell_type": "code",
   "execution_count": 11,
   "id": "c06add9f",
   "metadata": {},
   "outputs": [
    {
     "name": "stdout",
     "output_type": "stream",
     "text": [
      "+------------------+---------+\n",
      "|Registration State|Frequency|\n",
      "+------------------+---------+\n",
      "|                NY|  8517686|\n",
      "|                NJ|   925965|\n",
      "|                PA|   285419|\n",
      "|                FL|   144556|\n",
      "|                CT|   141088|\n",
      "|                MA|    85547|\n",
      "|                IN|    80749|\n",
      "|                VA|    72626|\n",
      "|                MD|    61800|\n",
      "|                NC|    55806|\n",
      "|                IL|    37329|\n",
      "|                GA|    36852|\n",
      "|                TX|    36516|\n",
      "|                AZ|    26426|\n",
      "|                OH|    25302|\n",
      "|                CA|    24260|\n",
      "|                SC|    21836|\n",
      "|                ME|    21574|\n",
      "|                MN|    18227|\n",
      "|                OK|    18165|\n",
      "+------------------+---------+\n",
      "only showing top 20 rows\n",
      "\n"
     ]
    }
   ],
   "source": [
    "df.groupBy(\"Registration State\").agg(F.count(\"Summons Number\").alias(\"Frequency\")).sort(F.col(\"Frequency\").desc()).show()"
   ]
  },
  {
   "cell_type": "markdown",
   "id": "4e783592",
   "metadata": {},
   "source": [
    "`Inference:` We can see that NY's Frequency has been increased from the last frequenct indicating that it has been replaced with \"NY\""
   ]
  },
  {
   "cell_type": "markdown",
   "id": "4939d8a7",
   "metadata": {},
   "source": [
    "## Aggregation Tasks"
   ]
  },
  {
   "cell_type": "markdown",
   "id": "36b2373b",
   "metadata": {},
   "source": [
    "#### 1. How often does each violation code occur? Display the frequency of the top five violation codes"
   ]
  },
  {
   "cell_type": "code",
   "execution_count": 12,
   "id": "a27da22b",
   "metadata": {},
   "outputs": [
    {
     "name": "stdout",
     "output_type": "stream",
     "text": [
      "+--------------+---------+\n",
      "|Violation Code|Frequency|\n",
      "+--------------+---------+\n",
      "|            21|  1528588|\n",
      "|            36|  1400614|\n",
      "|            38|  1062304|\n",
      "|            14|   893498|\n",
      "|            20|   618593|\n",
      "+--------------+---------+\n",
      "only showing top 5 rows\n",
      "\n"
     ]
    }
   ],
   "source": [
    "df.groupBy(\"Violation Code\").agg(F.count(\"Violation Code\").alias(\"Frequency\")).sort(F.col(\"Frequency\").desc()).show(5)"
   ]
  },
  {
   "cell_type": "markdown",
   "id": "6099072d",
   "metadata": {},
   "source": [
    "`Inference:` 21 code has been violated more than 1.5 Million times followed by 36 which stands just above 1.4 Million"
   ]
  },
  {
   "cell_type": "markdown",
   "id": "6a596f7c",
   "metadata": {},
   "source": [
    "#### 2. How often does each \"Vehicle Body Type\" get a parking ticket? How about the \"Vehicle Make\"?"
   ]
  },
  {
   "cell_type": "code",
   "execution_count": 13,
   "id": "d5d24468",
   "metadata": {},
   "outputs": [
    {
     "name": "stdout",
     "output_type": "stream",
     "text": [
      "+-----------------+---------+\n",
      "|Vehicle Body Type|Frequency|\n",
      "+-----------------+---------+\n",
      "|             SUBN|  3719802|\n",
      "|             4DSD|  3082020|\n",
      "|              VAN|  1411970|\n",
      "|             DELV|   687330|\n",
      "|              SDN|   438191|\n",
      "+-----------------+---------+\n",
      "only showing top 5 rows\n",
      "\n"
     ]
    }
   ],
   "source": [
    "df.groupBy(\"Vehicle Body Type\").agg(F.count(\"Summons Number\").alias(\"Frequency\")).sort(F.col(\"Frequency\").desc()).show(5)"
   ]
  },
  {
   "cell_type": "markdown",
   "id": "7d6b4460",
   "metadata": {},
   "source": [
    "`Inference:` \"SUBN\" is the Vehicle Body Type which gets the most tickets"
   ]
  },
  {
   "cell_type": "code",
   "execution_count": 14,
   "id": "95a4919e",
   "metadata": {},
   "outputs": [
    {
     "name": "stdout",
     "output_type": "stream",
     "text": [
      "+------------+---------+\n",
      "|Vehicle Make|Frequency|\n",
      "+------------+---------+\n",
      "|        FORD|  1280958|\n",
      "|       TOYOT|  1211451|\n",
      "|       HONDA|  1079238|\n",
      "|       NISSA|   918590|\n",
      "|       CHEVR|   714655|\n",
      "+------------+---------+\n",
      "only showing top 5 rows\n",
      "\n"
     ]
    }
   ],
   "source": [
    "# Let's check for Vehicle Maker as well\n",
    "df.groupBy(\"Vehicle Make\").agg(F.count(\"Summons Number\").alias(\"Frequency\")).sort(F.col(\"Frequency\").desc()).show(5)"
   ]
  },
  {
   "cell_type": "markdown",
   "id": "7757adb8",
   "metadata": {},
   "source": [
    "`Inference:` \"FORD\" gets the most tickets"
   ]
  },
  {
   "cell_type": "markdown",
   "id": "01dec562",
   "metadata": {},
   "source": [
    "#### 3.1. \"Violation Precinct\" Ticket Frequency"
   ]
  },
  {
   "cell_type": "code",
   "execution_count": 15,
   "id": "f814356c",
   "metadata": {},
   "outputs": [
    {
     "name": "stdout",
     "output_type": "stream",
     "text": [
      "+------------------+---------+\n",
      "|Violation Precinct|Frequency|\n",
      "+------------------+---------+\n",
      "|                 0|  2072400|\n",
      "|                19|   535671|\n",
      "|                14|   352450|\n",
      "|                 1|   331810|\n",
      "|                18|   306920|\n",
      "+------------------+---------+\n",
      "only showing top 5 rows\n",
      "\n"
     ]
    }
   ],
   "source": [
    "# Precinct wise Ticket frequency\n",
    "df.groupBy(\"Violation Precinct\").agg(F.count(\"Summons Number\").alias(\"Frequency\")).sort(F.col(\"Frequency\").desc()).show(5)"
   ]
  },
  {
   "cell_type": "markdown",
   "id": "f6785876",
   "metadata": {},
   "source": [
    "`Inference:` Ignoring 0 as a garbage value. 19th Precinct had the most tickets"
   ]
  },
  {
   "cell_type": "markdown",
   "id": "a593ef64",
   "metadata": {},
   "source": [
    "#### 3.2. \"Issuer Precinct\" Ticket Frequency"
   ]
  },
  {
   "cell_type": "code",
   "execution_count": 16,
   "id": "87ba5c2e",
   "metadata": {},
   "outputs": [
    {
     "name": "stdout",
     "output_type": "stream",
     "text": [
      "+---------------+---------+\n",
      "|Issuer Precinct|Frequency|\n",
      "+---------------+---------+\n",
      "|              0|  2388479|\n",
      "|             19|   521513|\n",
      "|             14|   344977|\n",
      "|              1|   321170|\n",
      "|             18|   296553|\n",
      "+---------------+---------+\n",
      "only showing top 5 rows\n",
      "\n"
     ]
    }
   ],
   "source": [
    "# Issuer Precinct Tickets\n",
    "df.groupBy(\"Issuer Precinct\").agg(F.count(\"Summons Number\").alias(\"Frequency\")).sort(F.col(\"Frequency\").desc()).show(5)"
   ]
  },
  {
   "cell_type": "markdown",
   "id": "1840945e",
   "metadata": {},
   "source": [
    "`Inference:` Ignoring 0, most tickets are issued by 19th Precinct."
   ]
  },
  {
   "cell_type": "markdown",
   "id": "91332844",
   "metadata": {},
   "source": [
    "#### 4. Find the Violation Code Frequencies for three most precincts that have issued the most number of tickets."
   ]
  },
  {
   "cell_type": "code",
   "execution_count": 17,
   "id": "073e8a97",
   "metadata": {},
   "outputs": [],
   "source": [
    "# Registering dataframe as Temperory Table\n",
    "df.createOrReplaceTempView(\"NYC_Parking\")"
   ]
  },
  {
   "cell_type": "code",
   "execution_count": 18,
   "id": "c2cbb770",
   "metadata": {},
   "outputs": [
    {
     "name": "stdout",
     "output_type": "stream",
     "text": [
      "+--------------+---------+\n",
      "|Violation Code|frequency|\n",
      "+--------------+---------+\n",
      "|            14|   204922|\n",
      "|            46|   122359|\n",
      "|            38|    94937|\n",
      "|            37|    88475|\n",
      "|            69|    73736|\n",
      "|            16|    71797|\n",
      "|            21|    65026|\n",
      "|            20|    59770|\n",
      "|            31|    54198|\n",
      "|            40|    35808|\n",
      "|            19|    34445|\n",
      "|            47|    31983|\n",
      "|            71|    27890|\n",
      "|            42|    27642|\n",
      "|            84|    25299|\n",
      "|            17|    22831|\n",
      "|            10|    20579|\n",
      "|            70|    15042|\n",
      "|            82|    12551|\n",
      "|             9|    10831|\n",
      "+--------------+---------+\n",
      "only showing top 20 rows\n",
      "\n"
     ]
    }
   ],
   "source": [
    "# Since, we have registered the dataframe as table. We can now use SQL queries on the same \n",
    "spark.sql(\"\"\"\n",
    "select `Violation Code`, count(*) as frequency\n",
    "from NYC_Parking\n",
    "where `Issuer Precinct` in (19, 14, 1)\n",
    "group by `Violation Code`\n",
    "order by frequency desc\n",
    "\"\"\").show()"
   ]
  },
  {
   "cell_type": "markdown",
   "id": "72820df9",
   "metadata": {},
   "source": [
    "`Inference:` 14 and 46 are the Violation Codes that have been issued most by the top 3 Precinct Issuers"
   ]
  },
  {
   "cell_type": "markdown",
   "id": "80af441f",
   "metadata": {},
   "source": [
    "#### 5. Violation Code for Top 3 Precincts, i.e., 19, 14, 1"
   ]
  },
  {
   "cell_type": "code",
   "execution_count": 19,
   "id": "0177bc9a",
   "metadata": {},
   "outputs": [
    {
     "name": "stdout",
     "output_type": "stream",
     "text": [
      "+---+---+---------+----+\n",
      "| VP| VC|frequency|rank|\n",
      "+---+---+---------+----+\n",
      "|  1| 14|    76375|   1|\n",
      "|  1| 16|    39197|   2|\n",
      "|  1| 20|    28768|   3|\n",
      "| 19| 46|    90530|   1|\n",
      "| 19| 38|    74926|   2|\n",
      "| 19| 37|    73359|   3|\n",
      "| 14| 14|    75850|   1|\n",
      "| 14| 69|    58032|   2|\n",
      "| 14| 31|    40150|   3|\n",
      "+---+---+---------+----+\n",
      "\n"
     ]
    }
   ],
   "source": [
    "spark.sql(\"\"\"\n",
    "select * \n",
    "from (\n",
    "    select *, dense_rank() over(partition by vp order by frequency desc) as rank\n",
    "    from (\n",
    "        select `Violation Precinct` as VP, `Violation Code` as VC, count(*) as frequency\n",
    "        from NYC_Parking\n",
    "        where `Violation Precinct` in (19, 14, 1)\n",
    "        group by `Violation Precinct`, `Violation Code`\n",
    "        order by frequency desc\n",
    "        )\n",
    "    )\n",
    "where rank <=3\n",
    "\"\"\").show()"
   ]
  },
  {
   "cell_type": "markdown",
   "id": "2c192f65",
   "metadata": {},
   "source": [
    "`Inference:` \n",
    "- 1st Precinct has Code-14 as the most violated.\n",
    "- 19th Precinct has Code-46 as the most violated.\n",
    "- 14th Precinct has Code-14 as the most violated."
   ]
  },
  {
   "cell_type": "code",
   "execution_count": 20,
   "id": "354f5656",
   "metadata": {},
   "outputs": [
    {
     "name": "stdout",
     "output_type": "stream",
     "text": [
      "+--------------+--------+------------------+----------+----------+--------------+-----------------+------------+--------------+------------+------------+------------+-----------------------+------------------+------------------+---------------+-----------+--------------+------------+--------------+-------------------+----------------+---------------------------------+------------+--------------------+-------------------+-------------------+-----------+------------+--------------------+--------------------------+--------------------+------------------+-------------+---------------------+------------+------------+--------------+-------------------+---------------------+---------------------------------+-----------------+------------------------+-------------------+\n",
      "|Summons Number|Plate ID|Registration State|Plate Type|Issue Date|Violation Code|Vehicle Body Type|Vehicle Make|Issuing Agency|Street Code1|Street Code2|Street Code3|Vehicle Expiration Date|Violation Location|Violation Precinct|Issuer Precinct|Issuer Code|Issuer Command|Issuer Squad|Violation Time|Time First Observed|Violation County|Violation In Front Of Or Opposite|House Number|         Street Name|Intersecting Street|Date First Observed|Law Section|Sub Division|Violation Legal Code|Days Parking In Effect    |From Hours In Effect|To Hours In Effect|Vehicle Color|Unregistered Vehicle?|Vehicle Year|Meter Number|Feet From Curb|Violation Post Code|Violation Description|No Standing or Stopping Violation|Hydrant Violation|Double Parking Violation|                 TS|\n",
      "+--------------+--------+------------------+----------+----------+--------------+-----------------+------------+--------------+------------+------------+------------+-----------------------+------------------+------------------+---------------+-----------+--------------+------------+--------------+-------------------+----------------+---------------------------------+------------+--------------------+-------------------+-------------------+-----------+------------+--------------------+--------------------------+--------------------+------------------+-------------+---------------------+------------+------------+--------------+-------------------+---------------------+---------------------------------+-----------------+------------------------+-------------------+\n",
      "|    5092469481| GZH7067|                NY|       PAS|07/10/2016|             7|             SUBN|       TOYOT|             V|           0|           0|           0|                      0|              null|                 0|              0|          0|          null|        null|        0143AM|               null|              BX|                             null|        null|ALLERTON AVE (W/B) @|         BARNES AVE|                  0|       1111|           D|                   T|                      null|                null|              null|           GY|                 null|        2001|        null|             0|               null| FAILURE TO STOP A...|                             null|             null|                    null|1970-01-01 01:43:00|\n",
      "|    5092451658| GZH7067|                NY|       PAS|07/08/2016|             7|             SUBN|       TOYOT|             V|           0|           0|           0|                      0|              null|                 0|              0|          0|          null|        null|        0400PM|               null|              BX|                             null|        null|ALLERTON AVE (W/B) @|         BARNES AVE|                  0|       1111|           D|                   T|                      null|                null|              null|           GY|                 null|        2001|        null|             0|               null| FAILURE TO STOP A...|                             null|             null|                    null|1970-01-01 16:00:00|\n",
      "|    4006265037| FZX9232|                NY|       PAS|08/23/2016|             5|             SUBN|        FORD|             V|           0|           0|           0|                      0|              null|                 0|              0|          0|          null|        null|        0233PM|               null|              BX|                             null|        null|SB WEBSTER AVE @ E 1|            94TH ST|                  0|       1111|           C|                   T|                      null|                null|              null|           BK|                 null|        2004|        null|             0|               null|   BUS LANE VIOLATION|                             null|             null|                    null|1970-01-01 14:33:00|\n",
      "|    8478629828| 66623ME|                NY|       COM|06/14/2017|            47|             REFG|       MITSU|             T|       10610|       34330|       34350|               20180630|                14|                14|             14|     359594|          T102|           J|        1120AM|               null|              NY|                                O|         330|             7th Ave|               null|                  0|        408|          l2|                null|                         Y|               0700A|             0700P|           WH|                 null|        2007|        null|             0|                 04| 47-Double PKG-Mid...|                             null|             null|                    null|1970-01-01 11:20:00|\n",
      "|    7868300310| 37033JV|                NY|       COM|11/21/2016|            69|             DELV|       INTER|             T|       10510|       34310|       34330|               20170228|                13|                13|             13|     364832|          T102|           M|        0555PM|               null|              NY|                                F|         799|             6th Ave|               null|                  0|        408|          h1|                null|                         Y|               0700A|             0700P|        WHITE|                 null|        2007|        null|             0|               31 6| 69-Failure to Dis...|                             null|             null|                    null|1970-01-01 17:55:00|\n",
      "+--------------+--------+------------------+----------+----------+--------------+-----------------+------------+--------------+------------+------------+------------+-----------------------+------------------+------------------+---------------+-----------+--------------+------------+--------------+-------------------+----------------+---------------------------------+------------+--------------------+-------------------+-------------------+-----------+------------+--------------------+--------------------------+--------------------+------------------+-------------+---------------------+------------+------------+--------------+-------------------+---------------------+---------------------------------+-----------------+------------------------+-------------------+\n",
      "only showing top 5 rows\n",
      "\n"
     ]
    }
   ],
   "source": [
    "# Converting Violation Time onto Suitable Format\n",
    "df2 = df.withColumn(\"Violation Time\", F.concat(F.col(\"Violation Time\"), F.lit(\"M\")))\n",
    "df3 = df2.withColumn(\"TS\", F.to_timestamp(\"Violation Time\", \"hhmma\"))\n",
    "df3.show(5)"
   ]
  },
  {
   "cell_type": "code",
   "execution_count": 21,
   "id": "cfa5810c",
   "metadata": {},
   "outputs": [
    {
     "name": "stdout",
     "output_type": "stream",
     "text": [
      "+--------------+--------+------------------+----------+----------+--------------+-----------------+------------+--------------+------------+------------+------------+-----------------------+------------------+------------------+---------------+-----------+--------------+------------+--------------+-------------------+----------------+---------------------------------+------------+--------------------+-------------------+-------------------+-----------+------------+--------------------+--------------------------+--------------------+------------------+-------------+---------------------+------------+------------+--------------+-------------------+---------------------+---------------------------------+-----------------+------------------------+-------------------+-----+\n",
      "|Summons Number|Plate ID|Registration State|Plate Type|Issue Date|Violation Code|Vehicle Body Type|Vehicle Make|Issuing Agency|Street Code1|Street Code2|Street Code3|Vehicle Expiration Date|Violation Location|Violation Precinct|Issuer Precinct|Issuer Code|Issuer Command|Issuer Squad|Violation Time|Time First Observed|Violation County|Violation In Front Of Or Opposite|House Number|         Street Name|Intersecting Street|Date First Observed|Law Section|Sub Division|Violation Legal Code|Days Parking In Effect    |From Hours In Effect|To Hours In Effect|Vehicle Color|Unregistered Vehicle?|Vehicle Year|Meter Number|Feet From Curb|Violation Post Code|Violation Description|No Standing or Stopping Violation|Hydrant Violation|Double Parking Violation|                 TS| Time|\n",
      "+--------------+--------+------------------+----------+----------+--------------+-----------------+------------+--------------+------------+------------+------------+-----------------------+------------------+------------------+---------------+-----------+--------------+------------+--------------+-------------------+----------------+---------------------------------+------------+--------------------+-------------------+-------------------+-----------+------------+--------------------+--------------------------+--------------------+------------------+-------------+---------------------+------------+------------+--------------+-------------------+---------------------+---------------------------------+-----------------+------------------------+-------------------+-----+\n",
      "|    5092469481| GZH7067|                NY|       PAS|07/10/2016|             7|             SUBN|       TOYOT|             V|           0|           0|           0|                      0|              null|                 0|              0|          0|          null|        null|        0143AM|               null|              BX|                             null|        null|ALLERTON AVE (W/B) @|         BARNES AVE|                  0|       1111|           D|                   T|                      null|                null|              null|           GY|                 null|        2001|        null|             0|               null| FAILURE TO STOP A...|                             null|             null|                    null|1970-01-01 01:43:00|01:43|\n",
      "|    5092451658| GZH7067|                NY|       PAS|07/08/2016|             7|             SUBN|       TOYOT|             V|           0|           0|           0|                      0|              null|                 0|              0|          0|          null|        null|        0400PM|               null|              BX|                             null|        null|ALLERTON AVE (W/B) @|         BARNES AVE|                  0|       1111|           D|                   T|                      null|                null|              null|           GY|                 null|        2001|        null|             0|               null| FAILURE TO STOP A...|                             null|             null|                    null|1970-01-01 16:00:00|16:00|\n",
      "|    4006265037| FZX9232|                NY|       PAS|08/23/2016|             5|             SUBN|        FORD|             V|           0|           0|           0|                      0|              null|                 0|              0|          0|          null|        null|        0233PM|               null|              BX|                             null|        null|SB WEBSTER AVE @ E 1|            94TH ST|                  0|       1111|           C|                   T|                      null|                null|              null|           BK|                 null|        2004|        null|             0|               null|   BUS LANE VIOLATION|                             null|             null|                    null|1970-01-01 14:33:00|14:33|\n",
      "|    8478629828| 66623ME|                NY|       COM|06/14/2017|            47|             REFG|       MITSU|             T|       10610|       34330|       34350|               20180630|                14|                14|             14|     359594|          T102|           J|        1120AM|               null|              NY|                                O|         330|             7th Ave|               null|                  0|        408|          l2|                null|                         Y|               0700A|             0700P|           WH|                 null|        2007|        null|             0|                 04| 47-Double PKG-Mid...|                             null|             null|                    null|1970-01-01 11:20:00|11:20|\n",
      "|    7868300310| 37033JV|                NY|       COM|11/21/2016|            69|             DELV|       INTER|             T|       10510|       34310|       34330|               20170228|                13|                13|             13|     364832|          T102|           M|        0555PM|               null|              NY|                                F|         799|             6th Ave|               null|                  0|        408|          h1|                null|                         Y|               0700A|             0700P|        WHITE|                 null|        2007|        null|             0|               31 6| 69-Failure to Dis...|                             null|             null|                    null|1970-01-01 17:55:00|17:55|\n",
      "+--------------+--------+------------------+----------+----------+--------------+-----------------+------------+--------------+------------+------------+------------+-----------------------+------------------+------------------+---------------+-----------+--------------+------------+--------------+-------------------+----------------+---------------------------------+------------+--------------------+-------------------+-------------------+-----------+------------+--------------------+--------------------------+--------------------+------------------+-------------+---------------------+------------+------------+--------------+-------------------+---------------------+---------------------------------+-----------------+------------------------+-------------------+-----+\n",
      "only showing top 5 rows\n",
      "\n"
     ]
    }
   ],
   "source": [
    "# Inspecting top5 rows post time format treatment\n",
    "df4 = df3.withColumn(\"Time\", F.date_format(F.col(\"TS\"), format=\"HH:mm\"))\n",
    "df4.show(5)"
   ]
  },
  {
   "cell_type": "markdown",
   "id": "99b398e5",
   "metadata": {},
   "source": [
    "#### 6. Checking Seasonality in the Dataset"
   ]
  },
  {
   "cell_type": "code",
   "execution_count": 22,
   "id": "6ca76fc5",
   "metadata": {},
   "outputs": [
    {
     "name": "stdout",
     "output_type": "stream",
     "text": [
      "+-----+---------+\n",
      "|Month|Frequency|\n",
      "+-----+---------+\n",
      "|   06|  1103400|\n",
      "|   05|  1026534|\n",
      "|   10|   969825|\n",
      "|   03|   965247|\n",
      "|   09|   961128|\n",
      "|   11|   899849|\n",
      "|   04|   888906|\n",
      "|   01|   878580|\n",
      "|   02|   827505|\n",
      "|   08|   801774|\n",
      "|   12|   779246|\n",
      "|   07|   701034|\n",
      "+-----+---------+\n",
      "\n"
     ]
    }
   ],
   "source": [
    "# Month-wise Ticket Frequency\n",
    "spark.sql(\"\"\"\n",
    "select substr(`Issue Date`, 1,2) as Month, count(*) as Frequency\n",
    "from NYC_Parking\n",
    "group by Month\n",
    "order by Frequency desc\n",
    "\"\"\").show()"
   ]
  },
  {
   "cell_type": "markdown",
   "id": "e7067c4b",
   "metadata": {},
   "source": [
    "`Inference:` Most of the parking tickets were issued in June, i.e., 1,103,400"
   ]
  },
  {
   "cell_type": "code",
   "execution_count": 23,
   "id": "496c4acf",
   "metadata": {},
   "outputs": [
    {
     "name": "stdout",
     "output_type": "stream",
     "text": [
      "+-------+---------+\n",
      "|Seasons|Frequency|\n",
      "+-------+---------+\n",
      "| Spring|  2880687|\n",
      "| Summer|  2606208|\n",
      "| Autumn|  2830802|\n",
      "| Winter|  2485331|\n",
      "+-------+---------+\n",
      "\n"
     ]
    }
   ],
   "source": [
    "# Season wise Tickets Frequency\n",
    "spark.sql(\"\"\"\n",
    "select (\n",
    "case when Month in (\"03\",\"04\",\"05\") then \"Spring\"\n",
    "when Month in (\"06\",\"07\",\"08\") then \"Summer\"\n",
    "when Month in (\"09\",\"10\",\"11\") then \"Autumn\"\n",
    "when Month in (\"12\",\"01\",\"02\") then \"Winter\" else Null end ) as Seasons, sum(Frequency) as Frequency\n",
    "from \n",
    "    (\n",
    "    select substr(`Issue Date`, 1,2) as Month, count(*) as Frequency\n",
    "    from NYC_Parking\n",
    "    group by Month\n",
    "    order by Frequency desc\n",
    "    )\n",
    "group by Seasons\n",
    "\"\"\").show(12)"
   ]
  },
  {
   "cell_type": "markdown",
   "id": "4294def4",
   "metadata": {},
   "source": [
    "`Inference:` The highest number of Tickets were issued in Spring season but there is noot much of a significant difference in Frequency across Seasons"
   ]
  },
  {
   "cell_type": "code",
   "execution_count": 24,
   "id": "ae23be71",
   "metadata": {},
   "outputs": [
    {
     "name": "stdout",
     "output_type": "stream",
     "text": [
      "+-------+---+---------+----+\n",
      "|Seasons| VC|Frequency|Rank|\n",
      "+-------+---+---------+----+\n",
      "| Spring| 21|   402807|   1|\n",
      "| Spring| 36|   344834|   2|\n",
      "| Spring| 38|   271192|   3|\n",
      "| Summer| 21|   405961|   1|\n",
      "| Summer| 38|   247561|   2|\n",
      "| Summer| 36|   240396|   3|\n",
      "| Autumn| 36|   456046|   1|\n",
      "| Autumn| 21|   357479|   2|\n",
      "| Autumn| 38|   283828|   3|\n",
      "| Winter| 21|   362341|   1|\n",
      "| Winter| 36|   359338|   2|\n",
      "| Winter| 38|   259723|   3|\n",
      "+-------+---+---------+----+\n",
      "\n"
     ]
    }
   ],
   "source": [
    "# Top violation Codes based on Tickets issued\n",
    "spark.sql(\"\"\"\n",
    "select * \n",
    "from (\n",
    "    select *, dense_rank() over (partition by Seasons order by Frequency desc) as Rank\n",
    "    from \n",
    "    (\n",
    "    select (\n",
    "    case when Month in (\"03\",\"04\",\"05\") then \"Spring\"\n",
    "    when Month in (\"06\",\"07\",\"08\") then \"Summer\"\n",
    "    when Month in (\"09\",\"10\",\"11\") then \"Autumn\"\n",
    "    when Month in (\"12\",\"01\",\"02\") then \"Winter\" else Null end ) as Seasons, VC, sum(Frequency) as Frequency\n",
    "    from \n",
    "        (\n",
    "        select substr(`Issue Date`, 1,2) as Month, `Violation Code` as VC, count(*) as Frequency\n",
    "        from NYC_Parking\n",
    "        group by Month, `Violation Code`\n",
    "        order by Frequency desc\n",
    "        )\n",
    "    group by Seasons, VC\n",
    "    )\n",
    ")\n",
    "where Rank <= 3\n",
    "\"\"\").show(20)"
   ]
  },
  {
   "cell_type": "markdown",
   "id": "79a58678",
   "metadata": {},
   "source": [
    "`Inference:` Apparently, top violation codes for all seasons are 21, 36, 38."
   ]
  },
  {
   "cell_type": "markdown",
   "id": "0d91515a",
   "metadata": {},
   "source": [
    "#### 7. Revenue Collection from Tickets"
   ]
  },
  {
   "cell_type": "code",
   "execution_count": 25,
   "id": "77678a8b",
   "metadata": {},
   "outputs": [
    {
     "name": "stdout",
     "output_type": "stream",
     "text": [
      "+--------------+---------+\n",
      "|Violation Code|Frequency|\n",
      "+--------------+---------+\n",
      "|            21|  1528588|\n",
      "|            36|  1400614|\n",
      "|            38|  1062304|\n",
      "|            14|   893498|\n",
      "|            20|   618593|\n",
      "|            46|   600012|\n",
      "|            37|   596769|\n",
      "|            71|   521308|\n",
      "|            40|   519615|\n",
      "|             7|   516395|\n",
      "+--------------+---------+\n",
      "only showing top 10 rows\n",
      "\n"
     ]
    }
   ],
   "source": [
    "# SQL Query for Violation Code Tickets frequency\n",
    "spark.sql(\"\"\"\n",
    "select `Violation Code`, count(*) as Frequency\n",
    "from NYC_Parking\n",
    "group by `Violation Code`\n",
    "order by Frequency desc\n",
    "\"\"\").show(10)"
   ]
  },
  {
   "cell_type": "markdown",
   "id": "d39c761e",
   "metadata": {},
   "source": [
    "`Inference:` Major Violation were\n",
    "- \"Failure to Display Muni Rec\"\n",
    "- \"Speed Violation in School Zones\"\n",
    "- \"Parking in No-Parking Zones\""
   ]
  }
 ],
 "metadata": {
  "kernelspec": {
   "display_name": "Python 3 (ipykernel)",
   "language": "python",
   "name": "python3"
  },
  "language_info": {
   "codemirror_mode": {
    "name": "ipython",
    "version": 3
   },
   "file_extension": ".py",
   "mimetype": "text/x-python",
   "name": "python",
   "nbconvert_exporter": "python",
   "pygments_lexer": "ipython3",
   "version": "3.9.7"
  }
 },
 "nbformat": 4,
 "nbformat_minor": 5
}
